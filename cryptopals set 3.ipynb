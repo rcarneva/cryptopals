{
 "cells": [
  {
   "cell_type": "code",
   "execution_count": 1,
   "metadata": {
    "ExecuteTime": {
     "end_time": "2017-01-20T14:45:13.489305",
     "start_time": "2017-01-20T14:45:13.421109"
    },
    "collapsed": true
   },
   "outputs": [],
   "source": [
    "import base64\n",
    "import binascii\n",
    "import string\n",
    "\n",
    "from Crypto.Cipher import AES\n",
    "\n",
    "from collections import Counter\n",
    "\n",
    "from itertools import izip_longest\n",
    "\n",
    "import numpy as np"
   ]
  },
  {
   "cell_type": "code",
   "execution_count": 2,
   "metadata": {
    "ExecuteTime": {
     "end_time": "2017-01-20T14:45:21.306620",
     "start_time": "2017-01-20T14:45:21.284018"
    },
    "collapsed": true
   },
   "outputs": [],
   "source": [
    "goodchars = set(string.ascii_letters + string.digits + \" .!?'\\\"\")\n",
    "\n",
    "def repkey(key, slen):\n",
    "    return ((binascii.hexlify(key)) * (slen / len(key)+1))[:slen]\n",
    "\n",
    "def sscore(s):\n",
    "    return sum([c in goodchars for c in s])\n",
    "\n",
    "def hamming(s1, s2):\n",
    "    return sum(map(int, bin(int(challenge2(binascii.hexlify(s1), binascii.hexlify(s2)), 16))[2:]))\n",
    "\n",
    "def grouper(iterable, n, fillvalue=None):\n",
    "    args = [iter(iterable)] * n\n",
    "    return izip_longest(*args, fillvalue=fillvalue)\n",
    "\n",
    "def makebytes(x):\n",
    "    return [''.join(cs) for cs in grouper(x, 2)]\n",
    "\n",
    "def xor(s1, s2, conv=lambda x: hex(x)[2:].zfill(2), sconv=bytearray.fromhex):\n",
    "    return ''.join([conv(x^y) for x, y in zip(sconv(s1), sconv(s2))])\n",
    "\n",
    "def ecb_detect(msgs):\n",
    "    for m in msgs:\n",
    "        blocks = map(''.join, list(grouper(m, 16)))\n",
    "        if Counter(blocks).most_common(1)[0][1] > 1:\n",
    "            return [Counter(blocks), m]"
   ]
  },
  {
   "cell_type": "code",
   "execution_count": 105,
   "metadata": {
    "ExecuteTime": {
     "end_time": "2017-01-20T15:21:09.261924",
     "start_time": "2017-01-20T15:21:09.218573"
    },
    "collapsed": false
   },
   "outputs": [],
   "source": [
    "class MT19937(object):\n",
    "    (w, n, m, r) = (32, 624, 397, 31)\n",
    "    a = 0x9908B0DF\n",
    "    (u, d) = (11, 0xFFFFFFFF)\n",
    "    (s, b) = (7, 0x9D2C5680)\n",
    "    (t, c) = (15, 0xEFC60000)\n",
    "    f = 1812433253\n",
    "    l = 18\n",
    "    \n",
    "    def __init__(self, seed=0):\n",
    "        self.MT = [0] * n\n",
    "        self.index = self.n+1\n",
    "        \n",
    "        self.lower_mask = (1 << self.r) - 1\n",
    "        self.upper_mask = (~self.lower_mask) & ((1 << w) - 1)\n",
    "        \n",
    "        self.seed(seed)\n",
    "    \n",
    "    def seed(self, seed):\n",
    "        self.index = self.n\n",
    "        self.MT[0] = seed\n",
    "        for i in xrange(1, self.n):\n",
    "            self.MT[i] = (self.f * (self.MT[i-1] ^ (self.MT[i-1] >> (self.w-2))) + i) & ((1 << self.w) - 1)\n",
    "            \n",
    "    def extract_number(self):\n",
    "        if self.index >= n:\n",
    "            if self.index > n:\n",
    "                raise IndexError(\"Not seeded\")\n",
    "            self.twist()\n",
    "        \n",
    "        y = self.MT[self.index]\n",
    "        y ^= ((y >> self.u) & self.d)\n",
    "        y ^= ((y << self.s) & self.b)\n",
    "        y ^= ((y << self.t) & self.c)\n",
    "        y ^= y >> self.l\n",
    "        \n",
    "        self.index += 1\n",
    "        return y  & ((1 << self.w) - 1)\n",
    "\n",
    "    def twist(self):\n",
    "        for i in xrange(self.n):\n",
    "            x = (self.MT[i] & self.upper_mask) + (self.MT[(i+1) % self.n] & self.lower_mask)\n",
    "            xA = x >> 1\n",
    "            if (x % 2) != 0:\n",
    "                xA ^= self.a\n",
    "            self.MT[i] = self.MT[(i+self.m) % self.n] ^ xA\n",
    "        self.index = 0"
   ]
  },
  {
   "cell_type": "code",
   "execution_count": 107,
   "metadata": {
    "ExecuteTime": {
     "end_time": "2017-01-20T15:21:10.309007",
     "start_time": "2017-01-20T15:21:10.296938"
    },
    "collapsed": false
   },
   "outputs": [
    {
     "data": {
      "text/plain": [
       "1791095845"
      ]
     },
     "execution_count": 107,
     "metadata": {},
     "output_type": "execute_result"
    }
   ],
   "source": [
    "m = MT19937(1)\n",
    "m.extract_number()"
   ]
  },
  {
   "cell_type": "code",
   "execution_count": 108,
   "metadata": {
    "ExecuteTime": {
     "end_time": "2017-01-20T15:21:14.918084",
     "start_time": "2017-01-20T15:21:14.713874"
    },
    "collapsed": false
   },
   "outputs": [
    {
     "data": {
      "text/plain": [
       "[4282876139, 3093770124, 4005303368, 491263, 550290313]"
      ]
     },
     "execution_count": 108,
     "metadata": {},
     "output_type": "execute_result"
    }
   ],
   "source": [
    "l = [m.extract_number() for _ in xrange(100000)]\n",
    "l[:5]"
   ]
  },
  {
   "cell_type": "code",
   "execution_count": 84,
   "metadata": {
    "ExecuteTime": {
     "end_time": "2017-01-20T15:13:16.356032",
     "start_time": "2017-01-20T15:13:16.342789"
    },
    "collapsed": true
   },
   "outputs": [],
   "source": [
    "%matplotlib inline\n",
    "import matplotlib.pyplot as plt"
   ]
  },
  {
   "cell_type": "code",
   "execution_count": 110,
   "metadata": {
    "ExecuteTime": {
     "end_time": "2017-01-20T15:23:37.511962",
     "start_time": "2017-01-20T15:23:37.122984"
    },
    "collapsed": false
   },
   "outputs": [
    {
     "data": {
      "image/png": "[encoded data removed]",
      "text/plain": [
       "<matplotlib.figure.Figure at 0x10a85be90>"
      ]
     },
     "metadata": {},
     "output_type": "display_data"
    }
   ],
   "source": [
    "plt.hist(l, bins=100); "
   ]
  },
  {
   "cell_type": "code",
   "execution_count": null,
   "metadata": {
    "collapsed": true
   },
   "outputs": [],
   "source": []
  }
 ],
 "metadata": {
  "kernelspec": {
   "display_name": "Python 2",
   "language": "python",
   "name": "python2"
  },
  "language_info": {
   "codemirror_mode": {
    "name": "ipython",
    "version": 2
   },
   "file_extension": ".py",
   "mimetype": "text/x-python",
   "name": "python",
   "nbconvert_exporter": "python",
   "pygments_lexer": "ipython2",
   "version": "2.7.10"
  }
 },
 "nbformat": 4,
 "nbformat_minor": 1
}
