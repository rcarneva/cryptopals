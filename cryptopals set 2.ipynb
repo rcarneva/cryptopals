{
 "cells": [
  {
   "cell_type": "code",
   "execution_count": 753,
   "metadata": {
    "ExecuteTime": {
     "end_time": "2017-01-19T15:44:35.498100",
     "start_time": "2017-01-19T15:44:35.485894"
    },
    "collapsed": true
   },
   "outputs": [],
   "source": [
    "import base64\n",
    "import binascii\n",
    "import string\n",
    "\n",
    "from Crypto.Cipher import AES\n",
    "\n",
    "from collections import Counter\n",
    "\n",
    "from itertools import izip_longest\n",
    "\n",
    "import numpy as np"
   ]
  },
  {
   "cell_type": "code",
   "execution_count": 754,
   "metadata": {
    "ExecuteTime": {
     "end_time": "2017-01-19T15:44:35.953644",
     "start_time": "2017-01-19T15:44:35.925212"
    },
    "collapsed": false
   },
   "outputs": [],
   "source": [
    "goodchars = set(string.ascii_letters + string.digits + \" .!?'\\\"\")\n",
    "\n",
    "def repkey(key, slen):\n",
    "    return ((binascii.hexlify(key)) * (slen / len(key)+1))[:slen]\n",
    "\n",
    "def sscore(s):\n",
    "    return sum([c in goodchars for c in s])\n",
    "\n",
    "def hamming(s1, s2):\n",
    "    return sum(map(int, bin(int(challenge2(binascii.hexlify(s1), binascii.hexlify(s2)), 16))[2:]))\n",
    "\n",
    "def grouper(iterable, n, fillvalue=None):\n",
    "    args = [iter(iterable)] * n\n",
    "    return izip_longest(*args, fillvalue=fillvalue)\n",
    "\n",
    "def makebytes(x):\n",
    "    return [''.join(cs) for cs in grouper(x, 2)]\n",
    "\n",
    "def xor(s1, s2, conv=lambda x: hex(x)[2:].zfill(2), sconv=bytearray.fromhex):\n",
    "    return ''.join([conv(x^y) for x, y in zip(sconv(s1), sconv(s2))])\n",
    "\n",
    "def ecb_detect(msgs):\n",
    "    for m in msgs:\n",
    "        blocks = map(''.join, list(grouper(m, 16)))\n",
    "        if Counter(blocks).most_common(1)[0][1] > 1:\n",
    "            return [Counter(blocks), m]"
   ]
  },
  {
   "cell_type": "code",
   "execution_count": 755,
   "metadata": {
    "ExecuteTime": {
     "end_time": "2017-01-19T15:44:36.477095",
     "start_time": "2017-01-19T15:44:36.461250"
    },
    "collapsed": false
   },
   "outputs": [
    {
     "data": {
      "text/plain": [
       "'YELLOW SUBMARINE\\x04\\x04\\x04\\x04'"
      ]
     },
     "execution_count": 755,
     "metadata": {},
     "output_type": "execute_result"
    }
   ],
   "source": [
    "def challenge9(s, l, fullpad=True, modpad=False):\n",
    "    l = l-len(s) if fullpad else l\n",
    "    if modpad:\n",
    "        l = l - (len(s) % l)\n",
    "    return s + (chr(l) * l)\n",
    "\n",
    "challenge9(\"YELLOW SUBMARINE\", 20)"
   ]
  },
  {
   "cell_type": "code",
   "execution_count": 756,
   "metadata": {
    "ExecuteTime": {
     "end_time": "2017-01-19T15:44:36.814915",
     "start_time": "2017-01-19T15:44:36.796833"
    },
    "collapsed": false
   },
   "outputs": [],
   "source": [
    "s = \"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\""
   ]
  },
  {
   "cell_type": "code",
   "execution_count": 757,
   "metadata": {
    "ExecuteTime": {
     "end_time": "2017-01-19T15:44:37.217996",
     "start_time": "2017-01-19T15:44:37.198668"
    },
    "collapsed": false
   },
   "outputs": [
    {
     "data": {
      "text/plain": [
       "\"I'm back and I'm ringin' the bell \\nA rockin' on the mike while the fly girls yell \\nIn ecstasy in the back of me \\nWell that's my DJ Deshay cuttin' all them Z's \\nHittin' hard and the girlies goin' crazy \\nVanilla's on the mike, man I'm not lazy. \\n\\nI'm lettin' my drug kick in \\nIt controls my mouth and I begin \\nTo just let it flow, let my concepts go \\nMy posse's to the side yellin', Go Vanilla Go! \\n\\nSmooth 'cause that's the way I will be \\nAnd if you don't give a damn, then \\nWhy you starin' at me \\nSo get off 'cause I control the stage \\nThere's no dissin' allowed \\nI'm in my own phase \\nThe girlies sa y they love me and that is ok \\nAnd I can dance better than any kid n' play \\n\\nStage 2 -- Yea the one ya' wanna listen to \\nIt's off my head so let the beat play through \\nSo I can funk it up and make it sound good \\n1-2-3 Yo -- Knock on some wood \\nFor good luck, I like my rhymes atrocious \\nSupercalafragilisticexpialidocious \\nI'm an effect and that you can bet \\nI can take a fly girl and make her wet. \\n\\nI'm like Samson -- Samson to Delilah \\nThere's no denyin', You can try to hang \\nBut you'll keep tryin' to get my style \\nOver and over, practice makes perfect \\nBut not if you're a loafer. \\n\\nYou'll get nowhere, no place, no time, no girls \\nSoon -- Oh my God, homebody, you probably eat \\nSpaghetti with a spoon! Come on and say it! \\n\\nVIP. Vanilla Ice yep, yep, I'm comin' hard like a rhino \\nIntoxicating so you stagger like a wino \\nSo punks stop trying and girl stop cryin' \\nVanilla Ice is sellin' and you people are buyin' \\n'Cause why the freaks are jockin' like Crazy Glue \\nMovin' and groovin' trying to sing along \\nAll through the ghetto groovin' this here song \\nNow you're amazed by the VIP posse. \\n\\nSteppin' so hard like a German Nazi \\nStartled by the bases hittin' ground \\nThere's no trippin' on mine, I'm just gettin' down \\nSparkamatic, I'm hangin' tight like a fanatic \\nYou trapped me once and I thought that \\nYou might have it \\nSo step down and lend me your ear \\n'89 in my time! You, '90 is my year. \\n\\nYou're weakenin' fast, YO! and I can tell it \\nYour body's gettin' hot, so, so I can smell it \\nSo don't be mad and don't be sad \\n'Cause the lyrics belong to ICE, You can call me Dad \\nYou're pitchin' a fit, so step back and endure \\nLet the witch doctor, Ice, do the dance to cure \\nSo come up close and don't be square \\nYou wanna battle me -- Anytime, anywhere \\n\\nYou thought that I was weak, Boy, you're dead wrong \\nSo come on, everybody and sing this song \\n\\nSay -- Play that funky music Say, go white boy, go white boy go \\nplay that funky music Go white boy, go white boy, go \\nLay down and boogie and play that funky music till you die. \\n\\nPlay that funky music Come on, Come on, let me hear \\nPlay that funky music white boy you say it, say it \\nPlay that funky music A little louder now \\nPlay that funky music, white boy Come on, Come on, Come on \\nPlay that funky music \\n\\x04\\x04\\x04\\x04\""
      ]
     },
     "execution_count": 757,
     "metadata": {},
     "output_type": "execute_result"
    }
   ],
   "source": [
    "def challenge10(s):\n",
    "    ret = []\n",
    "    lasts = \"\\x00\" * 16\n",
    "    for block in grouper(base64.decodestring(s), 16):\n",
    "        ret.append(xor(AES.new(key=\"YELLOW SUBMARINE\", mode=AES.MODE_ECB, IV=\"\\x00\"*16).decrypt(''.join(block)), lasts, conv=chr, sconv=bytearray))\n",
    "        lasts = block\n",
    "    return ''.join(ret)\n",
    "\n",
    "challenge10(s)"
   ]
  },
  {
   "cell_type": "code",
   "execution_count": 758,
   "metadata": {
    "ExecuteTime": {
     "end_time": "2017-01-19T15:44:37.640009",
     "start_time": "2017-01-19T15:44:37.628507"
    },
    "collapsed": true
   },
   "outputs": [],
   "source": [
    "def randbytes(klen=16):\n",
    "    return bytearray(np.random.randint(0, 256, klen).tolist())"
   ]
  },
  {
   "cell_type": "code",
   "execution_count": 759,
   "metadata": {
    "ExecuteTime": {
     "end_time": "2017-01-19T15:44:37.977794",
     "start_time": "2017-01-19T15:44:37.964539"
    },
    "collapsed": false
   },
   "outputs": [],
   "source": [
    "def encryption_oracle(s):\n",
    "    emode = np.random.choice([AES.MODE_CBC, AES.MODE_ECB])\n",
    "    msg = randbytes(np.random.randint(5,11)) + s\n",
    "    k = str(randbytes())\n",
    "    iv = str(randbytes())\n",
    "    return AES.new(key=k, mode=emode, IV=iv).encrypt(str(challenge9(msg, 16-len(msg)%16, False))), emode, k, iv"
   ]
  },
  {
   "cell_type": "code",
   "execution_count": 760,
   "metadata": {
    "ExecuteTime": {
     "end_time": "2017-01-19T15:44:38.275152",
     "start_time": "2017-01-19T15:44:38.260969"
    },
    "collapsed": false
   },
   "outputs": [
    {
     "name": "stdout",
     "output_type": "stream",
     "text": [
      "(1, '\\xd7-/{h\\xd5\\x941\\xa4\\xb6\\x8dNhd9a', '\\xb6\\xcd\\xdf\\xddY\\xab\\xa3e?\\xf7)\\xde mQ\\xab')\n"
     ]
    }
   ],
   "source": [
    "s = \"\"\"I'm back and I'm ringin' the bell \\nA rockin' on the mike while the fly girls yell \\nIn ecstasy in the back of me \\nWell that's my DJ Deshay cuttin' all them Z's \\nHittin' hard and the girlies goin' crazy \\nVanilla's on the mike, man I'm not lazy. \\n\\nI'm lettin' my drug kick in \\nIt controls my mouth and I begin \\nTo just let it flow, let my concepts go \\nMy posse's to the side yellin', Go Vanilla Go! \\n\\nSmooth 'cause that's the way I will be \\nAnd if you don't give a damn, then \\nWhy you starin' at me \\nSo get off 'cause I control the stage \\nThere's no dissin' allowed \\nI'm in my own phase \\nThe girlies sa y they love me and that is ok \\nAnd I can dance better than any kid n' play \\n\\nStage 2 -- Yea the one ya' wanna listen to \\nIt's off my head so let the beat play through \\nSo I can funk it up and make it sound good \\n1-2-3 Yo -- Knock on some wood \\nFor good luck, I like my rhymes atrocious \\nSupercalafragilisticexpialidocious \\nI'm an effect and that you can bet \\nI can take a fly girl and make her wet. \\n\\nI'm like Samson -- Samson to Delilah \\nThere's no denyin', You can try to hang \\nBut you'll keep tryin' to get my style \\nOver and over, practice makes perfect \\nBut not if you're a loafer. \\n\\nYou'll get nowhere, no place, no time, no girls \\nSoon -- Oh my God, homebody, you probably eat \\nSpaghetti with a spoon! Come on and say it! \\n\\nVIP. Vanilla Ice yep, yep, I'm comin' hard like a rhino \\nIntoxicating so you stagger like a wino \\nSo punks stop trying and girl stop cryin' \\nVanilla Ice is sellin' and you people are buyin' \\n'Cause why the freaks are jockin' like Crazy Glue \\nMovin' and groovin' trying to sing along \\nAll through the ghetto groovin' this here song \\nNow you're amazed by the VIP posse. \\n\\nSteppin' so hard like a German Nazi \\nStartled by the bases hittin' ground \\nThere's no trippin' on mine, I'm just gettin' down \\nSparkamatic, I'm hangin' tight like a fanatic \\nYou trapped me once and I thought that \\nYou might have it \\nSo step down and lend me your ear \\n'89 in my time! You, '90 is my year. \\n\\nYou're weakenin' fast, YO! and I can tell it \\nYour body's gettin' hot, so, so I can smell it \\nSo don't be mad and don't be sad \\n'Cause the lyrics belong to ICE, You can call me Dad \\nYou're pitchin' a fit, so step back and endure \\nLet the witch doctor, Ice, do the dance to cure \\nSo come up close and don't be square \\nYou wanna battle me -- Anytime, anywhere \\n\\nYou thought that I was weak, Boy, you're dead wrong \\nSo come on, everybody and sing this song \\n\\nSay -- Play that funky music Say, go white boy, go white boy go \\nplay that funky music Go white boy, go white boy, go \\nLay down and boogie and play that funky music till you die. \\n\\nPlay that funky music Come on, Come on, let me hear \\nPlay that funky music white boy you say it, say it \\nPlay that funky music A little louder now \\nPlay that funky music, white boy Come on, Come on, Come on \\nPlay that funky music \\n\"\"\"\n",
    "cypher, mode, key, iv = encryption_oracle(s)\n",
    "print (mode, key, iv)"
   ]
  },
  {
   "cell_type": "code",
   "execution_count": 761,
   "metadata": {
    "ExecuteTime": {
     "end_time": "2017-01-19T15:44:38.635342",
     "start_time": "2017-01-19T15:44:38.621617"
    },
    "collapsed": false
   },
   "outputs": [
    {
     "data": {
      "text/plain": [
       "\"\\x8c\\xd2b\\xe4\\xc9\\x1963\\x94I'm back and I'm ringin' the bell \\nA rockin' on the mike while the fly girls yell \\nIn ecstasy in the back of me \\nWell that's my DJ Deshay cuttin' all them Z's \\nHittin' hard and the girlies goin' crazy \\nVanilla's on the mike, man I'm not lazy. \\n\\nI'm lettin' my drug kick in \\nIt controls my mouth and I begin \\nTo just let it flow, let my concepts go \\nMy posse's to the side yellin', Go Vanilla Go! \\n\\nSmooth 'cause that's the way I will be \\nAnd if you don't give a damn, then \\nWhy you starin' at me \\nSo get off 'cause I control the stage \\nThere's no dissin' allowed \\nI'm in my own phase \\nThe girlies sa y they love me and that is ok \\nAnd I can dance better than any kid n' play \\n\\nStage 2 -- Yea the one ya' wanna listen to \\nIt's off my head so let the beat play through \\nSo I can funk it up and make it sound good \\n1-2-3 Yo -- Knock on some wood \\nFor good luck, I like my rhymes atrocious \\nSupercalafragilisticexpialidocious \\nI'm an effect and that you can bet \\nI can take a fly girl and make her wet. \\n\\nI'm like Samson -- Samson to Delilah \\nThere's no denyin', You can try to hang \\nBut you'll keep tryin' to get my style \\nOver and over, practice makes perfect \\nBut not if you're a loafer. \\n\\nYou'll get nowhere, no place, no time, no girls \\nSoon -- Oh my God, homebody, you probably eat \\nSpaghetti with a spoon! Come on and say it! \\n\\nVIP. Vanilla Ice yep, yep, I'm comin' hard like a rhino \\nIntoxicating so you stagger like a wino \\nSo punks stop trying and girl stop cryin' \\nVanilla Ice is sellin' and you people are buyin' \\n'Cause why the freaks are jockin' like Crazy Glue \\nMovin' and groovin' trying to sing along \\nAll through the ghetto groovin' this here song \\nNow you're amazed by the VIP posse. \\n\\nSteppin' so hard like a German Nazi \\nStartled by the bases hittin' ground \\nThere's no trippin' on mine, I'm just gettin' down \\nSparkamatic, I'm hangin' tight like a fanatic \\nYou trapped me once and I thought that \\nYou might have it \\nSo step down and lend me your ear \\n'89 in my time! You, '90 is my year. \\n\\nYou're weakenin' fast, YO! and I can tell it \\nYour body's gettin' hot, so, so I can smell it \\nSo don't be mad and don't be sad \\n'Cause the lyrics belong to ICE, You can call me Dad \\nYou're pitchin' a fit, so step back and endure \\nLet the witch doctor, Ice, do the dance to cure \\nSo come up close and don't be square \\nYou wanna battle me -- Anytime, anywhere \\n\\nYou thought that I was weak, Boy, you're dead wrong \\nSo come on, everybody and sing this song \\n\\nSay -- Play that funky music Say, go white boy, go white boy go \\nplay that funky music Go white boy, go white boy, go \\nLay down and boogie and play that funky music till you die. \\n\\nPlay that funky music Come on, Come on, let me hear \\nPlay that funky music white boy you say it, say it \\nPlay that funky music A little louder now \\nPlay that funky music, white boy Come on, Come on, Come on \\nPlay that funky music \\n\\x0b\\x0b\\x0b\\x0b\\x0b\\x0b\\x0b\\x0b\\x0b\\x0b\\x0b\""
      ]
     },
     "execution_count": 761,
     "metadata": {},
     "output_type": "execute_result"
    }
   ],
   "source": [
    "AES.new(key=key, mode=mode, IV=iv).decrypt(cypher)"
   ]
  },
  {
   "cell_type": "code",
   "execution_count": 762,
   "metadata": {
    "ExecuteTime": {
     "end_time": "2017-01-19T15:44:38.987559",
     "start_time": "2017-01-19T15:44:38.972649"
    },
    "collapsed": false
   },
   "outputs": [
    {
     "data": {
      "text/plain": [
       "'ECB'"
      ]
     },
     "execution_count": 762,
     "metadata": {},
     "output_type": "execute_result"
    }
   ],
   "source": [
    "def challenge11(cypher):\n",
    "    res = ecb_detect([cypher])\n",
    "    if res is None:\n",
    "        return \"CBC\"\n",
    "    else:\n",
    "        return \"ECB\"\n",
    "\n",
    "challenge11(cypher)"
   ]
  },
  {
   "cell_type": "code",
   "execution_count": 763,
   "metadata": {
    "ExecuteTime": {
     "end_time": "2017-01-19T15:44:39.514219",
     "start_time": "2017-01-19T15:44:39.501429"
    },
    "collapsed": false
   },
   "outputs": [],
   "source": [
    "findstr = \"Um9sbGluJyBpbiBteSA1LjAKV2l0aCBteSByYWctdG9wIGRvd24gc28gbXkgaGFpciBjYW4gYmxvdwpUaGUgZ2lybGllcyBvbiBzdGFuZGJ5IHdhdmluZyBqdXN0IHRvIHNheSBoaQpEaWQgeW91IHN0b3A=\"\n",
    "findstr = base64.decodestring(findstr)"
   ]
  },
  {
   "cell_type": "code",
   "execution_count": 764,
   "metadata": {
    "ExecuteTime": {
     "end_time": "2017-01-19T15:44:39.990147",
     "start_time": "2017-01-19T15:44:39.972456"
    },
    "collapsed": false
   },
   "outputs": [],
   "source": [
    "def encryption_oracle(s, emode=None, k=None, iv=None, pad=None):\n",
    "    emode = np.random.choice([AES.MODE_CBC, AES.MODE_ECB]) if emode is None else emode\n",
    "    msg = randbytes(np.random.randint(5,11)) + s if pad is None else pad+s\n",
    "    k = str(randbytes()) if k is None else k\n",
    "    iv = str(randbytes()) if iv is None else iv\n",
    "    return AES.new(key=k, mode=emode, IV=iv).encrypt(str(challenge9(msg, 16-len(msg)%16, False))), emode, k, iv\n",
    "\n",
    "def simpleoracle(s):\n",
    "    global key, findstr\n",
    "    return encryption_oracle(s+findstr, AES.MODE_ECB, k=key, pad=\"\")[0]"
   ]
  },
  {
   "cell_type": "code",
   "execution_count": 765,
   "metadata": {
    "ExecuteTime": {
     "end_time": "2017-01-19T15:44:40.596266",
     "start_time": "2017-01-19T15:44:40.429899"
    },
    "collapsed": false,
    "scrolled": false
   },
   "outputs": [
    {
     "name": "stdout",
     "output_type": "stream",
     "text": [
      "\"Rollin' in my 5.0\\nWith my rag-top down so my hair can blow\\nThe girlies on standby waving just to say hi\\nDid you stop\\x01\"\n"
     ]
    }
   ],
   "source": [
    "def challenge12(findstr, oracle=simpleoracle):\n",
    "\n",
    "    key = str(randbytes())\n",
    "\n",
    "    def find_blocksize(curstr=\"\"):\n",
    "        blocks = []\n",
    "        bigblocks = []\n",
    "\n",
    "        probestr = \"\"\n",
    "\n",
    "        for i in xrange(20):\n",
    "            bigblocks.append(oracle(probestr+curstr))\n",
    "            blocks.append(bigblocks[-1][:i])\n",
    "            if len(blocks) > 2 and blocks[-1].startswith(blocks[-2]):\n",
    "                return i-1, bigblocks\n",
    "            probestr += \"A\"\n",
    "\n",
    "    cypher = oracle(\"A\"*200)\n",
    "    challenge11(cypher)\n",
    "\n",
    "    curstr = \"\"\n",
    "\n",
    "    blocksize, bigblocks = find_blocksize()\n",
    "\n",
    "    probestr = \"A\" * blocksize\n",
    "\n",
    "    while True:\n",
    "        for charnum in xrange(1,blocksize+1):\n",
    "            for i in xrange(256):\n",
    "                probe = probestr[charnum:]+curstr+chr(i)\n",
    "                if bigblocks[blocksize-charnum][:len(probe)] == oracle(probe)[:len(probe)]: \n",
    "                    curstr += chr(i)\n",
    "                    break\n",
    "            else:\n",
    "                break\n",
    "        else:\n",
    "            continue\n",
    "        break\n",
    "    print repr(curstr)\n",
    "\n",
    "challenge12(findstr)"
   ]
  },
  {
   "cell_type": "code",
   "execution_count": 766,
   "metadata": {
    "ExecuteTime": {
     "end_time": "2017-01-19T15:44:41.103305",
     "start_time": "2017-01-19T15:44:41.091952"
    },
    "collapsed": true
   },
   "outputs": [],
   "source": [
    "import urlparse\n",
    "import urllib"
   ]
  },
  {
   "cell_type": "code",
   "execution_count": 767,
   "metadata": {
    "ExecuteTime": {
     "end_time": "2017-01-19T15:44:41.633572",
     "start_time": "2017-01-19T15:44:41.621191"
    },
    "collapsed": false
   },
   "outputs": [],
   "source": [
    "def parseurl(url):\n",
    "    return {k: v[-1] for k, v in urlparse.parse_qs(url).items()}"
   ]
  },
  {
   "cell_type": "code",
   "execution_count": 768,
   "metadata": {
    "ExecuteTime": {
     "end_time": "2017-01-19T15:44:42.154325",
     "start_time": "2017-01-19T15:44:42.140520"
    },
    "collapsed": false
   },
   "outputs": [
    {
     "name": "stdout",
     "output_type": "stream",
     "text": [
      "email=foo%40bar.com&uid=754&role=user\n",
      "email=foo%40bar.com%26role%3Dadmin&uid=754&role=user\n"
     ]
    }
   ],
   "source": [
    "def profile_for(email):\n",
    "    return urllib.urlencode([('email', email), ('uid', 754), ('role', 'user')])\n",
    "\n",
    "print profile_for(\"foo@bar.com\")\n",
    "print profile_for(\"foo@bar.com&role=admin\")"
   ]
  },
  {
   "cell_type": "code",
   "execution_count": 769,
   "metadata": {
    "ExecuteTime": {
     "end_time": "2017-01-19T15:44:42.609424",
     "start_time": "2017-01-19T15:44:42.595966"
    },
    "collapsed": false
   },
   "outputs": [
    {
     "data": {
      "text/plain": [
       "{'email': 'foo@bar.com&role=admin', 'role': 'user', 'uid': '754'}"
      ]
     },
     "execution_count": 769,
     "metadata": {},
     "output_type": "execute_result"
    }
   ],
   "source": [
    "parseurl(profile_for(\"foo@bar.com&role=admin\"))"
   ]
  },
  {
   "cell_type": "code",
   "execution_count": 826,
   "metadata": {
    "ExecuteTime": {
     "end_time": "2017-01-20T11:42:10.369505",
     "start_time": "2017-01-20T11:42:10.353893"
    },
    "collapsed": false
   },
   "outputs": [],
   "source": [
    "key = str(randbytes())\n",
    "\n",
    "def makeprofile(e):\n",
    "    global key\n",
    "    return AES.new(key=key, mode=AES.MODE_ECB).encrypt(challenge9(profile_for(e), 16, fullpad=False, modpad=True))\n",
    "\n",
    "def decodeprofile(s):\n",
    "    return AES.new(key=key, mode=AES.MODE_ECB).decrypt(s)\n",
    "\n",
    "def tobytes(s):\n",
    "    return ' '.join(map(''.join, grouper(binascii.hexlify(makeprofile(s)), 2)))"
   ]
  },
  {
   "cell_type": "code",
   "execution_count": 825,
   "metadata": {
    "ExecuteTime": {
     "end_time": "2017-01-20T11:41:56.421148",
     "start_time": "2017-01-20T11:41:56.408686"
    },
    "collapsed": false
   },
   "outputs": [
    {
     "name": "stdout",
     "output_type": "stream",
     "text": [
      "'?\\xb8[2\\xa5\\xef,\\x0bV\\xc4R\\xe8\\xb2ee\\xdetU\\x1e<O/\\x9a%\\x93;\\xa8\\x8b\\xab5\\x0052\\xe3Q\\xac\\xb9o\\xdeX\\xbf\\xc9\\xb0\\xd2s\\xbc7\\xc7'\n",
      "email=foo%40bar.com&uid=754&role=user\u000b",
      "\u000b",
      "\u000b",
      "\u000b",
      "\u000b",
      "\u000b",
      "\u000b",
      "\u000b",
      "\u000b",
      "\u000b",
      "\u000b",
      "\n"
     ]
    }
   ],
   "source": [
    "s = makeprofile(\"foo@bar.com\")\n",
    "print repr(s)\n",
    "print decodeprofile(s)"
   ]
  },
  {
   "cell_type": "code",
   "execution_count": 779,
   "metadata": {
    "ExecuteTime": {
     "end_time": "2017-01-19T15:46:55.832872",
     "start_time": "2017-01-19T15:46:55.816241"
    },
    "collapsed": false
   },
   "outputs": [
    {
     "name": "stdout",
     "output_type": "stream",
     "text": [
      "''\n"
     ]
    }
   ],
   "source": [
    "findstr = \"A\"*10+\"foo@bar.com\"\n",
    "challenge12(s, makeprofile)"
   ]
  },
  {
   "cell_type": "code",
   "execution_count": 827,
   "metadata": {
    "ExecuteTime": {
     "end_time": "2017-01-20T11:42:14.406622",
     "start_time": "2017-01-20T11:42:14.392821"
    },
    "collapsed": false
   },
   "outputs": [
    {
     "name": "stdout",
     "output_type": "stream",
     "text": [
      "    1  2  3  4  5  6  7  8  9 10 11 12 13 14 15 16 17 18 19 20 21 22 23 24 25 26 27 28 29 30 31 32 \n",
      " 0 14 ea a0 02 52 5f 97 95 0c 0f 72 1d c7 d3 b5 08 b7 ea 4c 16 95 3a 2b a7 70 ae 22 c1 ad 6b 93 54 \n",
      " 1 2d 37 3a ca c9 f6 36 36 1f 30 61 20 99 11 e2 8d 52 3f cc 7b 2b f8 7f 4b 65 ca e6 9d ae 80 57 00 \n",
      " 2 56 42 30 22 41 da 45 14 33 03 53 ba 21 62 99 f7 ae b2 0c 81 28 8c 90 d5 29 30 28 d2 b3 de 2e 9d \n",
      " 3 28 6f ea ca 7a 19 30 ed 05 9c 0b 46 76 28 6e 49 47 88 64 45 52 f1 03 b6 f1 9a 23 fa 95 84 53 fe \n",
      " 4 58 e8 48 de f7 55 06 de 4a bf 08 67 71 72 72 76 e3 5f f7 ab fd 9b 73 a2 b8 da 79 41 d2 82 fd c3 \n",
      " 5 aa 8d b9 4a 43 67 cc a8 25 03 c1 b8 7f 1b 9b 71 ac d6 7c 3e 1b b2 96 21 5e 6a 32 38 5d 30 dd 53 \n",
      " 6 55 37 5a 68 3f 14 98 17 a6 46 c6 9f 93 92 04 12 36 dd 93 64 3c f6 69 e0 f9 67 70 ae 9e 61 5d 19 \n",
      " 7 28 df 16 a7 7c 80 45 bc 31 34 d5 12 56 07 98 01 22 93 85 69 b4 a5 3c e3 e3 0f c2 aa 5c d3 05 d1 \n",
      " 8 74 79 28 8c f1 4d 38 8e 75 d6 1c b2 ac 76 74 9c 09 cd ba 4d d4 6b 5d 2f 9a 43 3d 1d 7b 00 05 7c \n",
      " 9 83 51 ab da 27 45 00 d8 4a 85 a0 99 70 c9 94 3b 60 85 b8 d7 10 1c 78 a6 74 40 4c c2 44 f4 db 15 \n",
      "10 23 85 0c 9d cd ca 7d 82 aa 83 8c 97 fe fa 7f b6 61 a6 ae ae da 24 9f c7 d1 0e d3 fc 56 2e dc ca \n",
      "11 23 85 0c 9d cd ca 7d 82 aa 83 8c 97 fe fa 7f b6 2d 96 1c 09 98 7c 52 11 53 dd c8 06 b7 f5 31 e1 \n",
      "12 23 85 0c 9d cd ca 7d 82 aa 83 8c 97 fe fa 7f b6 27 3e c4 d3 17 45 c5 ca 49 3c 2c 42 c8 2c 6e 29 \n",
      "13 23 85 0c 9d cd ca 7d 82 aa 83 8c 97 fe fa 7f b6 fd 85 be 13 68 6f a4 09 3c 09 c3 25 d2 9f e7 20 \n",
      "14 23 85 0c 9d cd ca 7d 82 aa 83 8c 97 fe fa 7f b6 5e e9 42 21 37 06 64 b6 cf d9 34 a7 ec e3 8b 2f \n",
      "15 23 85 0c 9d cd ca 7d 82 aa 83 8c 97 fe fa 7f b6 b1 a3 28 6a dc 02 c9 92 09 bc a1 cd d3 5d b8 fb \n"
     ]
    }
   ],
   "source": [
    "print ('   '+'{:2} '*32).format(*range(1,33))\n",
    "for a in xrange(16):\n",
    "    print '{:2} {}'.format(a, tobytes(\"A\"*a + \"foo@bar.com\")[:96])"
   ]
  },
  {
   "cell_type": "code",
   "execution_count": 822,
   "metadata": {
    "ExecuteTime": {
     "end_time": "2017-01-20T11:39:47.331708",
     "start_time": "2017-01-20T11:39:47.318211"
    },
    "collapsed": false
   },
   "outputs": [
    {
     "name": "stdout",
     "output_type": "stream",
     "text": [
      "    1  2  3  4  5  6  7  8  9 10 11 12 13 14 15 16 17 18 19 20 21 22 23 24 25 26 27 28 29 30 31 32 \n",
      " 0 3f b8 5b 32 a5 ef 2c 0b 56 c4 52 e8 b2 65 65 de 74 55 1e 3c 4f 2f 9a 25 93 3b a8 8b ab 35 00 35 \n",
      " 1 3f b8 5b 32 a5 ef 2c 0b 56 c4 52 e8 b2 65 65 de f5 f0 61 f8 f1 a3 60 1e 6c 30 3d fb 26 66 63 83 \n",
      " 2 3f b8 5b 32 a5 ef 2c 0b 56 c4 52 e8 b2 65 65 de fd d4 35 8e d1 4a da 1f 35 16 88 ea 94 4d f1 cd \n",
      " 3 3f b8 5b 32 a5 ef 2c 0b 56 c4 52 e8 b2 65 65 de 53 fb 32 27 3e 74 24 7e f3 db d1 13 70 2f cd ff \n",
      " 4 3f b8 5b 32 a5 ef 2c 0b 56 c4 52 e8 b2 65 65 de 00 a4 7e fa 12 63 d1 1d a8 78 40 e2 2d 77 68 fe \n",
      " 5 3f b8 5b 32 a5 ef 2c 0b 56 c4 52 e8 b2 65 65 de 5e 6f 0a f2 13 5f 10 33 47 50 bf c7 03 68 21 61 \n",
      " 6 3f b8 5b 32 a5 ef 2c 0b 56 c4 52 e8 b2 65 65 de 7c d1 e9 eb 1a 56 5f 93 a5 eb 4f 5b b4 d1 5b 78 \n",
      " 7 3f b8 5b 32 a5 ef 2c 0b 56 c4 52 e8 b2 65 65 de b3 0b 23 eb 22 6e c6 de 56 17 bb b2 e5 55 a5 fb \n",
      " 8 3f b8 5b 32 a5 ef 2c 0b 56 c4 52 e8 b2 65 65 de a3 65 96 2e d9 a7 4f 30 7e 39 f5 84 fa 22 79 68 \n",
      " 9 3f b8 5b 32 a5 ef 2c 0b 56 c4 52 e8 b2 65 65 de 44 38 de a2 9c 1e 4c eb c2 3a 98 c9 22 06 2e f1 \n",
      "10 3f b8 5b 32 a5 ef 2c 0b 56 c4 52 e8 b2 65 65 de 9a 3c b2 58 57 46 18 ab f2 23 b1 16 97 04 cb bb \n",
      "11 3f b8 5b 32 a5 ef 2c 0b 56 c4 52 e8 b2 65 65 de 64 a3 19 b3 df f5 2d 2e ef 1a c4 49 64 2c e2 64 \n",
      "12 3f b8 5b 32 a5 ef 2c 0b 56 c4 52 e8 b2 65 65 de 1e 92 f0 16 82 2b 18 88 0e a7 4c 0a 91 90 dc dc \n",
      "13 3f b8 5b 32 a5 ef 2c 0b 56 c4 52 e8 b2 65 65 de df 9b 7f c5 c6 26 bf 3f 38 14 bd 8f 91 54 bc de \n",
      "14 3f b8 5b 32 a5 ef 2c 0b 56 c4 52 e8 b2 65 65 de df 9b 7f c5 c6 26 bf 3f 38 14 bd 8f 91 54 bc de \n",
      "15 3f b8 5b 32 a5 ef 2c 0b 56 c4 52 e8 b2 65 65 de df 9b 7f c5 c6 26 bf 3f 38 14 bd 8f 91 54 bc de \n"
     ]
    }
   ],
   "source": [
    "print ('   '+'{:2} '*32).format(*range(1,33))\n",
    "for a in xrange(16):\n",
    "    print '{:2} {}'.format(a, tobytes(\"foo@bar.com\" + \"A\" * a)[:96])"
   ]
  },
  {
   "cell_type": "code",
   "execution_count": null,
   "metadata": {
    "collapsed": true
   },
   "outputs": [],
   "source": []
  }
 ],
 "metadata": {
  "anaconda-cloud": {},
  "kernelspec": {
   "display_name": "Python 2",
   "language": "python",
   "name": "python2"
  },
  "language_info": {
   "codemirror_mode": {
    "name": "ipython",
    "version": 2
   },
   "file_extension": ".py",
   "mimetype": "text/x-python",
   "name": "python",
   "nbconvert_exporter": "python",
   "pygments_lexer": "ipython2",
   "version": "2.7.10"
  }
 },
 "nbformat": 4,
 "nbformat_minor": 1
}
